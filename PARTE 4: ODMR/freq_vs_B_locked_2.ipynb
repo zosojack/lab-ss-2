{
 "cells": [
  {
   "cell_type": "markdown",
   "id": "5cbb739d",
   "metadata": {},
   "source": [
    "# FREQUENZA v B USANDO SEGNALE LOCK-IN"
   ]
  },
  {
   "cell_type": "markdown",
   "id": "5e16e03f",
   "metadata": {},
   "source": [
    "---"
   ]
  },
  {
   "cell_type": "markdown",
   "id": "b4fbc344",
   "metadata": {},
   "source": [
    "## 0. inizio dal ricordarmi come ho organizzato i dati"
   ]
  },
  {
   "cell_type": "markdown",
   "id": "a7d9074a",
   "metadata": {},
   "source": [
    "Ho scritto funzioni che leggono le colonne desiderate nei file e producono il grafico."
   ]
  },
  {
   "cell_type": "code",
   "execution_count": 1,
   "id": "842734af",
   "metadata": {},
   "outputs": [
    {
     "ename": "NameError",
     "evalue": "name 'lin_plus_var_sin_func' is not defined",
     "output_type": "error",
     "traceback": [
      "\u001b[0;31m---------------------------------------------------------------------------\u001b[0m",
      "\u001b[0;31mNameError\u001b[0m                                 Traceback (most recent call last)",
      "Cell \u001b[0;32mIn[1], line 1\u001b[0m\n\u001b[0;32m----> 1\u001b[0m \u001b[38;5;28;01mfrom\u001b[39;00m \u001b[38;5;21;01modmr_subroutines\u001b[39;00m\u001b[38;5;21;01m.\u001b[39;00m\u001b[38;5;21;01manalysis_subroutines\u001b[39;00m \u001b[38;5;28;01mimport\u001b[39;00m \u001b[38;5;241m*\u001b[39m\n\u001b[1;32m      2\u001b[0m \u001b[38;5;28;01mfrom\u001b[39;00m \u001b[38;5;21;01mscipy\u001b[39;00m\u001b[38;5;21;01m.\u001b[39;00m\u001b[38;5;21;01mintegrate\u001b[39;00m \u001b[38;5;28;01mimport\u001b[39;00m cumulative_trapezoid\n\u001b[1;32m      3\u001b[0m \u001b[38;5;28;01mfrom\u001b[39;00m \u001b[38;5;21;01mscipy\u001b[39;00m\u001b[38;5;21;01m.\u001b[39;00m\u001b[38;5;21;01msignal\u001b[39;00m \u001b[38;5;28;01mimport\u001b[39;00m savgol_filter\n",
      "File \u001b[0;32m~/lab-ss-2/PARTE 4: ODMR/odmr_subroutines/analysis_subroutines.py:54\u001b[0m\n\u001b[1;32m     50\u001b[0m     \u001b[38;5;28;01mreturn\u001b[39;00m odmr\n\u001b[1;32m     52\u001b[0m \u001b[38;5;66;03m# + + + + + + + + + + + + + + + + + + + + + + + + + + + + + + + + + + + + + + + + + + + + + + + +\u001b[39;00m\n\u001b[0;32m---> 54\u001b[0m \u001b[38;5;28;01mdef\u001b[39;00m \u001b[38;5;21mfit_sin_odmr\u001b[39m(odmr, key: \u001b[38;5;28mstr\u001b[39m, region: \u001b[38;5;28mtuple\u001b[39m \u001b[38;5;241m=\u001b[39m \u001b[38;5;28;01mNone\u001b[39;00m, p0 \u001b[38;5;241m=\u001b[39m \u001b[38;5;28;01mNone\u001b[39;00m, sinp0\u001b[38;5;241m=\u001b[39m\u001b[38;5;28;01mNone\u001b[39;00m, fit_func \u001b[38;5;241m=\u001b[39m lin_plus_var_sin_func):\n\u001b[1;32m     56\u001b[0m     \u001b[38;5;28;01mif\u001b[39;00m region:\n\u001b[1;32m     57\u001b[0m         mask \u001b[38;5;241m=\u001b[39m (odmr[\u001b[38;5;124m'\u001b[39m\u001b[38;5;124mfreq\u001b[39m\u001b[38;5;124m'\u001b[39m] \u001b[38;5;241m>\u001b[39m\u001b[38;5;241m=\u001b[39m region[\u001b[38;5;241m0\u001b[39m]) \u001b[38;5;241m&\u001b[39m (odmr[\u001b[38;5;124m'\u001b[39m\u001b[38;5;124mfreq\u001b[39m\u001b[38;5;124m'\u001b[39m] \u001b[38;5;241m<\u001b[39m\u001b[38;5;241m=\u001b[39m region[\u001b[38;5;241m1\u001b[39m])\n",
      "\u001b[0;31mNameError\u001b[0m: name 'lin_plus_var_sin_func' is not defined"
     ]
    }
   ],
   "source": [
    "\n",
    "from odmr_subroutines.analysis_subroutines import *\n",
    "from scipy.integrate import cumulative_trapezoid\n",
    "from scipy.signal import savgol_filter\n",
    "from scipy.signal import detrend\n",
    "\n",
    "\n",
    "def build_name (dist):\n",
    "    return f\"data/cristallo2_aligned_cleaned/odmr_dist_{dist}_cleaned.csv\"\n",
    "\n",
    "distanze = [17, 19, 20, 22, 24, 30, 33, 39, 40, 1000]\n",
    "\n",
    "for i, dist in enumerate( reversed(distanze) ):\n",
    "    # costruisco il nome del file\n",
    "    nome = build_name(dist)\n",
    "    # leggo il file e immagazzino le informazioni in un oggetto 'spettro' (dizionario)\n",
    "    spettro = leggi_file_odmr(nome)\n",
    "    # correggo lo spettro lock-in\n",
    "    spettro = trasla_spettro_lock_in(spettro)\n",
    "    \n",
    "    # Integrazione rispetto alla frequenza\n",
    "    f = np.asarray(spettro['freq']).ravel()\n",
    "    l = np.asarray(spettro['lock']).ravel()\n",
    "    print(np.any(np.isnan(f)), np.any(np.isnan(l)))\n",
    "    print(i, f.shape, l.shape)  # controllo\n",
    "\n",
    "    # Filtra il segnale lock-in per rimuovere rumore ad alta frequenza\n",
    "    l_filtered = savgol_filter(l, window_length=11, polyorder=3)\n",
    "    \n",
    "    odmr_raw = cumulative_trapezoid(l_filtered, f, initial=0)\n",
    "    # Rimuovi trend lineare (baseline) [non c'è bisogno]\n",
    "    # odmr_raw = detrend(odmr_raw, type='linear')\n",
    "    \n",
    "    # plotto lo spettro\n",
    "    plot_odmr(spettro, key='lock', dist=dist, fit_curves=[(spettro['freq'], odmr_raw)])"
   ]
  },
  {
   "cell_type": "code",
   "execution_count": null,
   "id": "e59281f2",
   "metadata": {},
   "outputs": [],
   "source": []
  }
 ],
 "metadata": {
  "kernelspec": {
   "display_name": "Python 3",
   "language": "python",
   "name": "python3"
  },
  "language_info": {
   "codemirror_mode": {
    "name": "ipython",
    "version": 3
   },
   "file_extension": ".py",
   "mimetype": "text/x-python",
   "name": "python",
   "nbconvert_exporter": "python",
   "pygments_lexer": "ipython3",
   "version": "3.11.11"
  }
 },
 "nbformat": 4,
 "nbformat_minor": 5
}
