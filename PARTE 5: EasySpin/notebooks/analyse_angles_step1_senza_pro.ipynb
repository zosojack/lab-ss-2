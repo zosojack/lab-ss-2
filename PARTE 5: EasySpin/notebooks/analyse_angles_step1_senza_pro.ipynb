{
 "cells": [
  {
   "cell_type": "markdown",
   "id": "44440502",
   "metadata": {},
   "source": [
    "# Trovo gli scarti minimi in angoli_validi_step1_from0"
   ]
  },
  {
   "cell_type": "code",
   "execution_count": 14,
   "id": "78b293fe",
   "metadata": {},
   "outputs": [],
   "source": [
    "import numpy as np"
   ]
  },
  {
   "cell_type": "markdown",
   "id": "5b6fa5a4",
   "metadata": {},
   "source": [
    "## Lettura dei dati"
   ]
  },
  {
   "cell_type": "code",
   "execution_count": null,
   "id": "c271be33",
   "metadata": {},
   "outputs": [],
   "source": [
    "# PRIMA parte dei dati\n",
    "data = np.loadtxt('data_to_180/senza_prominence/angoli_validi_step1_from0_to110.txt', skiprows=1)\n",
    "scarti1 = data[:, 3]\n",
    "minimo1 = 10000\n",
    "secondo_minimo1 = 10000\n",
    "terzo_minimo1 = 10000\n",
    "\n",
    "# prima devo cercare il minimo\n",
    "for i, scarto in enumerate(scarti1):\n",
    "    if scarto < minimo1:\n",
    "        terzo_minimo1 = secondo_minimo1\n",
    "        secondo_minimo1 = minimo1\n",
    "        minimo1 = scarto\n",
    "\n",
    "# poi devo andare a vedere quante volte in realtà compare quel minimo\n",
    "indici_minimi_1 = [i for i, scarto in enumerate(scarti1) if scarto == minimo1]\n",
    "indici_secondi_minimi_1 = [i for i, scarto in enumerate(scarti1) if scarto == secondo_minimo1]\n",
    "indici_terzi_minimi_1 = [i for i, scarto in enumerate(scarti1) if scarto == terzo_minimo1]\n",
    "\n",
    "# quindi trattengo solo gli scarti minimi\n",
    "scarti_minimi_1 = scarti1[indici_minimi_1]\n",
    "scarti_secondi_minimi_1 = scarti1[indici_secondi_minimi_1]\n",
    "scarti_terzi_minimi_1 = scarti1[indici_terzi_minimi_1]\n",
    "\n",
    "# e salvo le terne di angoli corrispondenti\n",
    "angoli_minimi_1 = np.column_stack([\n",
    "    data[indici_minimi_1, 0],\n",
    "    data[indici_minimi_1, 1],\n",
    "    data[indici_minimi_1, 2],\n",
    "])\n",
    "\n",
    "angoli_secondi_minimi_1 = np.column_stack([\n",
    "    data[indici_secondi_minimi_1, 0],\n",
    "    data[indici_secondi_minimi_1, 1],\n",
    "    data[indici_secondi_minimi_1, 2],\n",
    "])\n",
    "\n",
    "angoli_terzi_minimi_1 = np.column_stack([\n",
    "    data[indici_terzi_minimi_1, 0],\n",
    "    data[indici_terzi_minimi_1, 1],\n",
    "    data[indici_terzi_minimi_1, 2],\n",
    "])\n",
    "\n",
    "# libero la memoria\n",
    "del data\n",
    "\n",
    "# SECONDA PARTE DEI DATI - il minimo sta di là!\n",
    "data = np.loadtxt('data_to_180/senza_prominence/angoli_validi_step1_from110_to180.txt', skiprows=1, usecols=range(4))\n",
    "scarti2 = data[:, 3]\n",
    "minimo2 = 10000\n",
    "secondo_minimo2 = 10000\n",
    "terzo_minimo2 = 10000\n",
    "\n",
    "# prima devo cercare il minimo\n",
    "for i, scarto in enumerate(scarti2):\n",
    "    if scarto < minimo2:\n",
    "        terzo_minimo2 = secondo_minimo2\n",
    "        secondo_minimo2 = minimo2\n",
    "        minimo2 = scarto\n",
    "\n",
    "# poi devo andare a vedere quante volte in realtà compare quel minimo\n",
    "indici_minimi_2 = [i for i, scarto in enumerate(scarti2) if scarto == minimo2]\n",
    "indici_secondi_minimi_2 = [i for i, scarto in enumerate(scarti2) if scarto == secondo_minimo2]\n",
    "indici_terzi_minimi_2 = [i for i, scarto in enumerate(scarti2) if scarto == terzo_minimo2]\n",
    "\n",
    "# quindi trattengo solo gli scarti minimi\n",
    "scarti_minimi_2 = scarti2[indici_minimi_2]\n",
    "scarti_secondi_minimi_2 = scarti2[indici_secondi_minimi_2]\n",
    "scarti_terzi_minimi_2 = scarti2[indici_terzi_minimi_2]\n",
    "\n",
    "# e salvo le terne di angoli corrispondenti\n",
    "angoli_minimi_2 = np.column_stack([\n",
    "    data[indici_minimi_2, 0],\n",
    "    data[indici_minimi_2, 1],\n",
    "    data[indici_minimi_2, 2],\n",
    "])\n",
    "\n",
    "angoli_secondi_minimi_2 = np.column_stack([\n",
    "    data[indici_secondi_minimi_2, 0],\n",
    "    data[indici_secondi_minimi_2, 1],\n",
    "    data[indici_secondi_minimi_2, 2],\n",
    "])\n",
    "\n",
    "angoli_terzi_minimi_2 = np.column_stack([\n",
    "    data[indici_terzi_minimi_2, 0],\n",
    "    data[indici_terzi_minimi_2, 1],\n",
    "    data[indici_terzi_minimi_2, 2],\n",
    "])\n",
    "\n",
    "# libero la memoria\n",
    "del data"
   ]
  },
  {
   "cell_type": "markdown",
   "id": "62005999",
   "metadata": {},
   "source": [
    "### Controllo da che parte sta il minimo"
   ]
  },
  {
   "cell_type": "markdown",
   "id": "7c196371",
   "metadata": {},
   "source": [
    "#### primo minimo"
   ]
  },
  {
   "cell_type": "code",
   "execution_count": 16,
   "id": "eff3dbc6",
   "metadata": {},
   "outputs": [
    {
     "name": "stdout",
     "output_type": "stream",
     "text": [
      "Il minimo sta tra 0 e 110\n"
     ]
    }
   ],
   "source": [
    "if minimo1 < minimo2:\n",
    "    print(\"Il minimo sta tra 0 e 110\")\n",
    "elif minimo1 == minimo2:\n",
    "    print(\"C'è un minimo in entrambe le regioni\")\n",
    "elif minimo1 > minimo2:\n",
    "    print(\"Il minimo sta tra 110 e 180\")"
   ]
  },
  {
   "cell_type": "markdown",
   "id": "10e8e305",
   "metadata": {},
   "source": [
    "#### secondo minimo"
   ]
  },
  {
   "cell_type": "code",
   "execution_count": 17,
   "id": "1dbe7028",
   "metadata": {},
   "outputs": [
    {
     "name": "stdout",
     "output_type": "stream",
     "text": [
      "Il secondo minimo sta tra 110 e 180 ed è 0.01571\n"
     ]
    }
   ],
   "source": [
    "if secondo_minimo1 < secondo_minimo2:\n",
    "    print(f\"Il secondo minimo sta tra 0 e 110 ed è {secondo_minimo1}\")\n",
    "elif secondo_minimo1 == secondo_minimo2:\n",
    "    print(f\"C'è un secondo minimo in entrambe le regioni ed è {secondo_minimo1}\")\n",
    "elif secondo_minimo1 > secondo_minimo2:\n",
    "    print(f\"Il secondo minimo sta tra 110 e 180 ed è {secondo_minimo2}\")"
   ]
  },
  {
   "cell_type": "markdown",
   "id": "6a1051eb",
   "metadata": {},
   "source": [
    "#### terzo minimo"
   ]
  },
  {
   "cell_type": "code",
   "execution_count": 18,
   "id": "38c8248d",
   "metadata": {},
   "outputs": [
    {
     "name": "stdout",
     "output_type": "stream",
     "text": [
      "Il terzo minimo sta tra 110 e 180 ed è 0.0158139\n"
     ]
    }
   ],
   "source": [
    "if terzo_minimo1 < terzo_minimo2:\n",
    "    print(f\"Il terzo minimo sta tra 0 e 110 ed è {terzo_minimo1}\")\n",
    "elif terzo_minimo1 == terzo_minimo2:\n",
    "    print(f\"C'è un terzo minimo in entrambe le regioni ed è {terzo_minimo1}\")\n",
    "elif terzo_minimo1 > terzo_minimo2:\n",
    "    print(f\"Il terzo minimo sta tra 110 e 180 ed è {terzo_minimo2}\")"
   ]
  },
  {
   "cell_type": "code",
   "execution_count": 19,
   "id": "6fcd8412",
   "metadata": {},
   "outputs": [
    {
     "data": {
      "text/plain": [
       "(8, 16)"
      ]
     },
     "execution_count": 19,
     "metadata": {},
     "output_type": "execute_result"
    }
   ],
   "source": [
    "# vediamo quanti sono i minimi\n",
    "len(indici_terzi_minimi_1), len(indici_terzi_minimi_2)"
   ]
  },
  {
   "cell_type": "code",
   "execution_count": 24,
   "id": "b9a283d1",
   "metadata": {},
   "outputs": [
    {
     "name": "stdout",
     "output_type": "stream",
     "text": [
      "[[  2.  76.  31.]\n",
      " [  2.  76. 121.]\n",
      " [  2. 104.  59.]\n",
      " [  2. 104. 149.]\n",
      " [  3.  76.  31.]\n",
      " [  3.  76. 121.]\n",
      " [  3. 104.  59.]\n",
      " [  3. 104. 149.]]\n"
     ]
    }
   ],
   "source": [
    "print(angoli_terzi_minimi_1)"
   ]
  },
  {
   "cell_type": "code",
   "execution_count": 25,
   "id": "ba0a054a",
   "metadata": {},
   "outputs": [
    {
     "name": "stdout",
     "output_type": "stream",
     "text": [
      "[[110.  33.  63.]\n",
      " [110.  33. 153.]\n",
      " [110. 147.  27.]\n",
      " [110. 147. 117.]\n",
      " [111.  33.  63.]\n",
      " [111.  33. 153.]\n",
      " [111. 147.  27.]\n",
      " [111. 147. 117.]\n",
      " [112.  33.  63.]\n",
      " [112.  33. 153.]\n",
      " [112. 147.  27.]\n",
      " [112. 147. 117.]\n",
      " [113.  33.  63.]\n",
      " [113.  33. 153.]\n",
      " [113. 147.  27.]\n",
      " [113. 147. 117.]]\n"
     ]
    }
   ],
   "source": [
    "print(angoli_terzi_minimi_2)"
   ]
  },
  {
   "cell_type": "code",
   "execution_count": null,
   "id": "ab414521",
   "metadata": {},
   "outputs": [],
   "source": [
    "anglesA =   [2.  76.  31.;\n",
    "   2.  76. 121.;\n",
    "   2. 104.  59.;\n",
    "   2. 104. 149.;\n",
    "   3.  76.  31.;\n",
    "   3.  76. 121.;\n",
    "   3. 104.  59.;\n",
    "   3. 104. 149.];\n",
    "\n",
    "anglesB = [110.  33.  63.;\n",
    " 110.  33. 153.;\n",
    " 110. 147.  27.;\n",
    " 110. 147. 117.;\n",
    " 111.  33.  63.;\n",
    " 111.  33. 153.;\n",
    " 111. 147.  27.;\n",
    " 111. 147. 117.;\n",
    " 112.  33.  63.;\n",
    " 112.  33. 153.;\n",
    " 112. 147.  27.;\n",
    " 112. 147. 117.;\n",
    " 113.  33.  63.;\n",
    " 113.  33. 153.;\n",
    " 113. 147.  27.;\n",
    " 113. 147. 117.];"
   ]
  }
 ],
 "metadata": {
  "kernelspec": {
   "display_name": "Python 3",
   "language": "python",
   "name": "python3"
  },
  "language_info": {
   "codemirror_mode": {
    "name": "ipython",
    "version": 3
   },
   "file_extension": ".py",
   "mimetype": "text/x-python",
   "name": "python",
   "nbconvert_exporter": "python",
   "pygments_lexer": "ipython3",
   "version": "3.11.11"
  }
 },
 "nbformat": 4,
 "nbformat_minor": 5
}
