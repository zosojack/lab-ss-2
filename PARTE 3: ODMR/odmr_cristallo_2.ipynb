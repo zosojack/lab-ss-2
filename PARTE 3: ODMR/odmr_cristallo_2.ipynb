{
 "cells": [
  {
   "cell_type": "markdown",
   "id": "7bddec51",
   "metadata": {},
   "source": [
    "# ODMR"
   ]
  },
  {
   "cell_type": "markdown",
   "id": "a386eaf6",
   "metadata": {},
   "source": [
    "---"
   ]
  },
  {
   "cell_type": "markdown",
   "id": "c3af898d",
   "metadata": {},
   "source": [
    "Allora: \n",
    "- prendiamo misure dello spettro PL al variare della distanza del magnete piccolo\n",
    "- incrociamo con le misure fatte del campo magnetico (riportate in fondo)\n",
    "- sweep in frequenza da 2500 a 3200Hz \n",
    "- passo di 0.25Hz, ciascuna frequenza ogni 2ms\n",
    "- local oscillator 1kHZ (bobina che ruota per scehrmare B ambientali)\n",
    "- amplitude 9 (corrente nella bobina)"
   ]
  },
  {
   "cell_type": "markdown",
   "id": "001d214c",
   "metadata": {},
   "source": [
    "### Accortezze"
   ]
  },
  {
   "cell_type": "markdown",
   "id": "1c26f51b",
   "metadata": {},
   "source": [
    "- misuriamo y e mettiamo phase shift (10) per massimizzare il segnale in y\n",
    "- teniamo la finestra larga 100s (il massimo) per riuscire a vedere tutto lo sweep\n",
    "- prendiamo due grafici\n",
    "\n",
    "    Nel primo:\n",
    "    - ch_A = segnale PL\n",
    "    - ch_B = reference (da cui si capisce quando inizia e finisce lo sweep)\n",
    "    \n",
    "    Con il primo individuiamo la posizione in frequenza dei deep, quindi ci spostiamo nel secondo:\n",
    "    - ch_A = segnale PL\n",
    "    - ch_B = segnale amplificato lock-in\n",
    "    e le considerazioni/studi che dobbiamo fare li facciamo sul segnale pulito dal lock-in"
   ]
  },
  {
   "cell_type": "markdown",
   "id": "4e5c1a74",
   "metadata": {},
   "source": [
    "# Analisi"
   ]
  },
  {
   "cell_type": "markdown",
   "id": "09f72e7a",
   "metadata": {},
   "source": [
    "Senza bisogno di plottare, funzione che legge lock-in ref, capisce dove mettere le frequenze e poi plotta grafico lock-in ma, invece che sul tempo, sulla frequenza!"
   ]
  },
  {
   "cell_type": "code",
   "execution_count": 1,
   "id": "ac724889",
   "metadata": {},
   "outputs": [
    {
     "ename": "IndentationError",
     "evalue": "expected an indented block after 'for' statement on line 70 (subroutines.py, line 73)",
     "output_type": "error",
     "traceback": [
      "Traceback \u001b[0;36m(most recent call last)\u001b[0m:\n",
      "\u001b[0m  File \u001b[1;32m~/lab-ss/lab-ss/lib/python3.11/site-packages/IPython/core/interactiveshell.py:3577\u001b[0m in \u001b[1;35mrun_code\u001b[0m\n    exec(code_obj, self.user_global_ns, self.user_ns)\u001b[0m\n",
      "\u001b[0;36m  Cell \u001b[0;32mIn[1], line 1\u001b[0;36m\n\u001b[0;31m    from subroutines import plotta_su_frequenze_odmr\u001b[0;36m\n",
      "\u001b[0;36m  File \u001b[0;32m~/lab-ss-2/PARTE 3: ODMR/subroutines.py:73\u001b[0;36m\u001b[0m\n\u001b[0;31m    if somma_quadratica < valore_precedente:\u001b[0m\n\u001b[0m    ^\u001b[0m\n\u001b[0;31mIndentationError\u001b[0m\u001b[0;31m:\u001b[0m expected an indented block after 'for' statement on line 70\n"
     ]
    }
   ],
   "source": [
    "from subroutines import plotta_su_frequenze_odmr\n",
    "\n",
    "nome_od  = \"data/cristallo2/Lockin_2500_3200_0e25step_2t_\"\n",
    "nome_ref = \"data/cristallo2/Lockin_ref_2500_3200_0e25step_2t_\"\n",
    "\n",
    "distanze = [17, 19, 20, 22, 24, 30, 33, 39, 40]"
   ]
  },
  {
   "cell_type": "markdown",
   "id": "e330c18e",
   "metadata": {},
   "source": [
    "---"
   ]
  },
  {
   "cell_type": "code",
   "execution_count": null,
   "id": "d7a480ca",
   "metadata": {},
   "outputs": [
    {
     "ename": "NameError",
     "evalue": "name 'distanze' is not defined",
     "output_type": "error",
     "traceback": [
      "\u001b[0;31m---------------------------------------------------------------------------\u001b[0m",
      "\u001b[0;31mNameError\u001b[0m                                 Traceback (most recent call last)",
      "Cell \u001b[0;32mIn[1], line 1\u001b[0m\n\u001b[0;32m----> 1\u001b[0m \u001b[38;5;28;01mfor\u001b[39;00m dist \u001b[38;5;129;01min\u001b[39;00m distanze:\n\u001b[1;32m      2\u001b[0m     od \u001b[38;5;241m=\u001b[39m nome_od \u001b[38;5;241m+\u001b[39m \u001b[38;5;28mstr\u001b[39m(dist) \u001b[38;5;241m+\u001b[39m \u001b[38;5;124m\"\u001b[39m\u001b[38;5;124m.csv\u001b[39m\u001b[38;5;124m\"\u001b[39m\n\u001b[1;32m      3\u001b[0m     ref \u001b[38;5;241m=\u001b[39m nome_ref \u001b[38;5;241m+\u001b[39m \u001b[38;5;28mstr\u001b[39m(dist) \u001b[38;5;241m+\u001b[39m \u001b[38;5;124m\"\u001b[39m\u001b[38;5;124m.csv\u001b[39m\u001b[38;5;124m\"\u001b[39m\n",
      "\u001b[0;31mNameError\u001b[0m: name 'distanze' is not defined"
     ]
    }
   ],
   "source": [
    "for dist in distanze:\n",
    "    od = nome_od + str(dist) + \".csv\"\n",
    "    ref = nome_ref + str(dist) + \".csv\"\n",
    "    print(\"Plotting for distance:\", dist)\n",
    "    plotta_su_frequenze_odmr(reference=ref, odmr=od, debug=True, mean=True)"
   ]
  },
  {
   "cell_type": "markdown",
   "id": "1e6fd251",
   "metadata": {},
   "source": [
    "---"
   ]
  },
  {
   "cell_type": "code",
   "execution_count": null,
   "id": "ded784ab",
   "metadata": {},
   "outputs": [
    {
     "ename": "IndentationError",
     "evalue": "unindent does not match any outer indentation level (<tokenize>, line 13)",
     "output_type": "error",
     "traceback": [
      "\u001b[0;36m  File \u001b[0;32m<tokenize>:13\u001b[0;36m\u001b[0m\n\u001b[0;31m    10   |  0.05390  |  0.06613\u001b[0m\n\u001b[0m    ^\u001b[0m\n\u001b[0;31mIndentationError\u001b[0m\u001b[0;31m:\u001b[0m unindent does not match any outer indentation level\n"
     ]
    }
   ],
   "source": [
    "\n",
    " d [mm] |  B [T]    |   σ [T]\n",
    "--------|-----------|----------\n",
    "  0.1   |  0.63921  |  0.76077\n",
    "    1   |  0.47674  |  0.56774\n",
    "    2   |  0.35175  |  0.41959\n",
    "    3   |  0.26477  |  0.31661\n",
    "    4   |  0.20283  |  0.24326\n",
    "    5   |  0.15781  |  0.18990\n",
    "    6   |  0.12448  |  0.15033\n",
    "    7   |  0.09941  |  0.12051\n",
    "    8   |  0.08028  |  0.09770\n",
    "    9   |  0.06548  |  0.08001\n",
    "   10   |  0.05390  |  0.06613\n",
    "   11   |  0.04474  |  0.05511\n",
    "   12   |  0.03742  |  0.04629\n",
    "   13   |  0.03152  |  0.03915\n",
    "   14   |  0.02673  |  0.03333\n",
    "   15   |  0.02279  |  0.02855\n",
    "   16   |  0.01955  |  0.02458\n",
    "   17   |  0.01685  |  0.02128\n",
    "   18   |  0.01460  |  0.01851\n",
    "   19   |  0.01271  |  0.01618\n",
    "   20   |  0.01110  |  0.01420\n",
    "   21   |  0.00974  |  0.01251\n",
    "   22   |  0.00858  |  0.01106\n",
    "   23   |  0.00758  |  0.00982\n",
    "   24   |  0.00672  |  0.00874\n",
    "   25   |  0.00597  |  0.00781\n",
    "   26   |  0.00533  |  0.00699\n",
    "   27   |  0.00476  |  0.00628\n",
    "   28   |  0.00427  |  0.00566\n",
    "   29   |  0.00384  |  0.00511\n",
    "   30   |  0.00346  |  0.00463\n",
    "   31   |  0.00312  |  0.00420\n",
    "   32   |  0.00282  |  0.00382\n",
    "   33   |  0.00256  |  0.00348\n",
    "   34   |  0.00232  |  0.00318\n",
    "   35   |  0.00211  |  0.00291"
   ]
  },
  {
   "cell_type": "markdown",
   "id": "7977293b",
   "metadata": {},
   "source": []
  }
 ],
 "metadata": {
  "kernelspec": {
   "display_name": "Python 3",
   "language": "python",
   "name": "python3"
  },
  "language_info": {
   "codemirror_mode": {
    "name": "ipython",
    "version": 3
   },
   "file_extension": ".py",
   "mimetype": "text/x-python",
   "name": "python",
   "nbconvert_exporter": "python",
   "pygments_lexer": "ipython3",
   "version": "3.11.11"
  }
 },
 "nbformat": 4,
 "nbformat_minor": 5
}
